{
 "cells": [
  {
   "cell_type": "code",
   "execution_count": null,
   "id": "87bad055",
   "metadata": {},
   "outputs": [],
   "source": [
    "from sklearn.datasets import fetch_openml"
   ]
  },
  {
   "cell_type": "code",
   "execution_count": null,
   "id": "4d9fc8b1",
   "metadata": {},
   "outputs": [],
   "source": [
    "mnist = fetch_openml('mnist_784', as_frame=False)"
   ]
  },
  {
   "cell_type": "code",
   "execution_count": null,
   "id": "c3df0833",
   "metadata": {},
   "outputs": [],
   "source": [
    "mnist"
   ]
  },
  {
   "cell_type": "code",
   "execution_count": null,
   "id": "86b9581e",
   "metadata": {},
   "outputs": [],
   "source": [
    "x, y = mnist['data'], mnist['target']"
   ]
  },
  {
   "cell_type": "code",
   "execution_count": null,
   "id": "7e840842",
   "metadata": {},
   "outputs": [],
   "source": [
    "\n",
    "y.shape"
   ]
  },
  {
   "cell_type": "code",
   "execution_count": null,
   "id": "575bc62c",
   "metadata": {},
   "outputs": [],
   "source": [
    "x.shape"
   ]
  },
  {
   "cell_type": "code",
   "execution_count": null,
   "id": "44d5bc43",
   "metadata": {},
   "outputs": [],
   "source": [
    "%matplotlib inline"
   ]
  },
  {
   "cell_type": "code",
   "execution_count": null,
   "id": "36c93aa2",
   "metadata": {},
   "outputs": [],
   "source": [
    "import matplotlib\n",
    "import matplotlib.pyplot as plt"
   ]
  },
  {
   "cell_type": "code",
   "execution_count": null,
   "id": "baeb1d7a",
   "metadata": {},
   "outputs": [],
   "source": [
    "some_digit = x[36011]\n",
    "some_digit_image = some_digit.reshape(28,28)"
   ]
  },
  {
   "cell_type": "code",
   "execution_count": null,
   "id": "0c3d9cca",
   "metadata": {},
   "outputs": [],
   "source": [
    "plt.imshow(some_digit_image, cmap=matplotlib.cm.binary, interpolation='nearest')\n",
    "plt.axis('off')"
   ]
  },
  {
   "cell_type": "code",
   "execution_count": null,
   "id": "5cc7c67e",
   "metadata": {},
   "outputs": [],
   "source": [
    "y[3601]"
   ]
  },
  {
   "cell_type": "code",
   "execution_count": null,
   "id": "4c52f952",
   "metadata": {},
   "outputs": [],
   "source": [
    "x_train, x_test = x[:60000], x[60000:]"
   ]
  },
  {
   "cell_type": "code",
   "execution_count": null,
   "id": "c3255962",
   "metadata": {},
   "outputs": [],
   "source": [
    "y_train, y_test = y[:60000], y[60000:]"
   ]
  },
  {
   "cell_type": "code",
   "execution_count": null,
   "id": "e2c4cfa5",
   "metadata": {},
   "outputs": [],
   "source": [
    "import numpy as np\n",
    "shuffle_index = np.random.permutation(60000)\n",
    "x_train, y_train = x_train[shuffle_index], y_train[shuffle_index]"
   ]
  },
  {
   "cell_type": "code",
   "execution_count": null,
   "id": "2c152c68",
   "metadata": {},
   "outputs": [],
   "source": [
    "y_train = y_train.astype(np.int8)\n",
    "y_test = y_test.astype(np.int8)\n",
    "y_train_2 = (y_train==2)\n",
    "y_test_2 = (y_test==2)"
   ]
  },
  {
   "cell_type": "code",
   "execution_count": null,
   "id": "b653296b",
   "metadata": {},
   "outputs": [],
   "source": [
    "from sklearn.linear_model import LogisticRegression"
   ]
  },
  {
   "cell_type": "code",
   "execution_count": null,
   "id": "b706adf0",
   "metadata": {},
   "outputs": [],
   "source": [
    "clf = LogisticRegression( solver='lbfgs')"
   ]
  },
  {
   "cell_type": "code",
   "execution_count": null,
   "id": "d582fbab",
   "metadata": {},
   "outputs": [],
   "source": [
    "clf.fit(x_train, y_train_2)"
   ]
  },
  {
   "cell_type": "code",
   "execution_count": null,
   "id": "202e19eb",
   "metadata": {},
   "outputs": [],
   "source": [
    "clf.predict([some_digit])"
   ]
  },
  {
   "cell_type": "code",
   "execution_count": null,
   "id": "30de6dea",
   "metadata": {},
   "outputs": [],
   "source": [
    "from sklearn.model_selection import cross_val_score\n",
    "a = cross_val_score(clf, x_train, y_train_2,cv=3, scoring ='accuracy')"
   ]
  },
  {
   "cell_type": "code",
   "execution_count": null,
   "id": "022b9143",
   "metadata": {},
   "outputs": [],
   "source": [
    "a.mean()"
   ]
  },
  {
   "cell_type": "markdown",
   "id": "f3f4c311",
   "metadata": {},
   "source": [
    "## Precision, Recall, F1-score"
   ]
  },
  {
   "cell_type": "code",
   "execution_count": null,
   "id": "cab967d1",
   "metadata": {},
   "outputs": [],
   "source": [
    "from sklearn.model_selection import cross_val_predict\n",
    "y__train_pred = cross_val_predict(clf, x_train, y_train_2, cv=3)"
   ]
  },
  {
   "cell_type": "code",
   "execution_count": null,
   "id": "5538fb94",
   "metadata": {},
   "outputs": [],
   "source": [
    "y__train_pred"
   ]
  },
  {
   "cell_type": "markdown",
   "id": "b5150a70",
   "metadata": {},
   "source": [
    "## Calculating Confusion"
   ]
  },
  {
   "cell_type": "code",
   "execution_count": null,
   "id": "f4dd6495",
   "metadata": {},
   "outputs": [],
   "source": [
    "from sklearn.metrics import confusion_matrix"
   ]
  },
  {
   "cell_type": "code",
   "execution_count": null,
   "id": "f311afe2",
   "metadata": {},
   "outputs": [],
   "source": [
    "confusion_matrix(y_train_2,y__train_pred)"
   ]
  },
  {
   "cell_type": "markdown",
   "id": "b8980b27",
   "metadata": {},
   "source": [
    "## Precision & Recall"
   ]
  },
  {
   "cell_type": "code",
   "execution_count": null,
   "id": "ed35da3e",
   "metadata": {},
   "outputs": [],
   "source": [
    "from sklearn.metrics import precision_score, recall_score"
   ]
  },
  {
   "cell_type": "code",
   "execution_count": null,
   "id": "c24f4875",
   "metadata": {},
   "outputs": [],
   "source": [
    "precision_score(y_train_2,y__train_pred)"
   ]
  },
  {
   "cell_type": "code",
   "execution_count": null,
   "id": "ca230aed",
   "metadata": {},
   "outputs": [],
   "source": [
    "recall_score(y_train_2,y__train_pred)"
   ]
  },
  {
   "cell_type": "code",
   "execution_count": null,
   "id": "2fe4f9ad",
   "metadata": {},
   "outputs": [],
   "source": [
    "from sklearn.metrics import f1_score\n",
    "f1_score(y_train_2,y__train_pred)"
   ]
  },
  {
   "cell_type": "markdown",
   "id": "bf6667ca",
   "metadata": {},
   "source": [
    "## Ploting cure P-R"
   ]
  },
  {
   "cell_type": "code",
   "execution_count": null,
   "id": "bc3e0cdf",
   "metadata": {},
   "outputs": [],
   "source": [
    "from sklearn.metrics import precision_recall_curve"
   ]
  },
  {
   "cell_type": "code",
   "execution_count": null,
   "id": "384502f2",
   "metadata": {},
   "outputs": [],
   "source": [
    "y_scores = cross_val_predict(clf, x_train, y_train_2, method ='decision_function')"
   ]
  },
  {
   "cell_type": "code",
   "execution_count": null,
   "id": "0e0578cf",
   "metadata": {},
   "outputs": [],
   "source": [
    "y_scores"
   ]
  },
  {
   "cell_type": "code",
   "execution_count": null,
   "id": "ac8991bd",
   "metadata": {},
   "outputs": [],
   "source": [
    "precision , recalls, thresholds = precision_recall_curve(y_train_2,y_scores)"
   ]
  },
  {
   "cell_type": "code",
   "execution_count": null,
   "id": "a110baf1",
   "metadata": {},
   "outputs": [],
   "source": [
    "precision"
   ]
  },
  {
   "cell_type": "code",
   "execution_count": null,
   "id": "32feb723",
   "metadata": {},
   "outputs": [],
   "source": [
    "recalls"
   ]
  },
  {
   "cell_type": "code",
   "execution_count": null,
   "id": "dff1ceb2",
   "metadata": {},
   "outputs": [],
   "source": [
    "thresholds"
   ]
  },
  {
   "cell_type": "code",
   "execution_count": null,
   "id": "aa139bcd",
   "metadata": {},
   "outputs": [],
   "source": [
    "plt.plot(thresholds, precision[:-1], 'b--', label='Precision')\n",
    "plt.plot(thresholds, recalls[:-1], 'g-', label='Recalls')\n",
    "plt.xlabel('Thresholds')\n",
    "plt.legend()\n",
    "plt.ylim([0,1])"
   ]
  },
  {
   "cell_type": "code",
   "execution_count": null,
   "id": "8a8ad207",
   "metadata": {},
   "outputs": [],
   "source": [
    "plt.plot(precision,recalls)"
   ]
  },
  {
   "cell_type": "code",
   "execution_count": null,
   "id": "24fe07f2",
   "metadata": {},
   "outputs": [],
   "source": [
    "from sklearn.metrics import roc_curve"
   ]
  },
  {
   "cell_type": "code",
   "execution_count": null,
   "id": "1274dc2b",
   "metadata": {},
   "outputs": [],
   "source": [
    "fpr, tpr, thresholds = roc_curve(y_train_2,y_scores)\n",
    "plt.plot(fpr, tpr )\n",
    "plt.plot([0,1] ,'g--')\n",
    "plt.ylim([0,1])\n",
    "plt.xlim([0,1])\n"
   ]
  },
  {
   "cell_type": "markdown",
   "id": "4bea8946",
   "metadata": {},
   "source": [
    "## OVA Strategy"
   ]
  },
  {
   "cell_type": "code",
   "execution_count": null,
   "id": "56f94ef8",
   "metadata": {},
   "outputs": [],
   "source": [
    "from sklearn.linear_model import SGDClassifier"
   ]
  },
  {
   "cell_type": "code",
   "execution_count": null,
   "id": "c276ed16",
   "metadata": {},
   "outputs": [],
   "source": [
    "sgd_clf = SGDClassifier()"
   ]
  },
  {
   "cell_type": "code",
   "execution_count": null,
   "id": "a054b2af",
   "metadata": {},
   "outputs": [],
   "source": [
    "sgd_clf.fit(x_train,y_train)\n"
   ]
  },
  {
   "cell_type": "code",
   "execution_count": null,
   "id": "6c2a5283",
   "metadata": {},
   "outputs": [],
   "source": [
    "sgd_clf.predict([some_digit])"
   ]
  },
  {
   "cell_type": "code",
   "execution_count": null,
   "id": "8ddbecc6",
   "metadata": {},
   "outputs": [],
   "source": [
    "some_digit_scores = sgd_clf.decision_function([some_digit])"
   ]
  },
  {
   "cell_type": "code",
   "execution_count": null,
   "id": "2ab43129",
   "metadata": {},
   "outputs": [],
   "source": [
    "some_digit_scores"
   ]
  },
  {
   "cell_type": "code",
   "execution_count": null,
   "id": "83d5ca1b",
   "metadata": {},
   "outputs": [],
   "source": [
    "np.argmax(some_digit_scores) #max score gain by classifier from 10"
   ]
  },
  {
   "cell_type": "code",
   "execution_count": null,
   "id": "b3bebd97",
   "metadata": {},
   "outputs": [],
   "source": [
    "sgd_clf.classes_"
   ]
  },
  {
   "cell_type": "markdown",
   "id": "97bb468e",
   "metadata": {},
   "source": [
    "## Forcing for OVO"
   ]
  },
  {
   "cell_type": "code",
   "execution_count": null,
   "id": "97578c20",
   "metadata": {},
   "outputs": [],
   "source": [
    "from sklearn.multiclass import OneVsOneClassifier"
   ]
  },
  {
   "cell_type": "code",
   "execution_count": null,
   "id": "427e5fea",
   "metadata": {},
   "outputs": [],
   "source": [
    "ovo_clf = OneVsOneClassifier(SGDClassifier(random_state=42))"
   ]
  },
  {
   "cell_type": "code",
   "execution_count": null,
   "id": "43e51e51",
   "metadata": {},
   "outputs": [],
   "source": [
    "ovo_clf.fit(x_train,y_train)"
   ]
  },
  {
   "cell_type": "code",
   "execution_count": null,
   "id": "a18336dd",
   "metadata": {},
   "outputs": [],
   "source": [
    "ovo_clf.predict([some_digit])"
   ]
  },
  {
   "cell_type": "code",
   "execution_count": null,
   "id": "f76460bc",
   "metadata": {},
   "outputs": [],
   "source": [
    "sgd_clf.classes_"
   ]
  },
  {
   "cell_type": "code",
   "execution_count": null,
   "id": "f6394364",
   "metadata": {},
   "outputs": [],
   "source": [
    "len(ovo_clf.estimators_)"
   ]
  },
  {
   "cell_type": "markdown",
   "id": "4ec46502",
   "metadata": {},
   "source": [
    "## Random Forest Classifier decision"
   ]
  },
  {
   "cell_type": "code",
   "execution_count": null,
   "id": "c3a675c4",
   "metadata": {},
   "outputs": [],
   "source": [
    "from sklearn.ensemble import RandomForestClassifier"
   ]
  },
  {
   "cell_type": "code",
   "execution_count": null,
   "id": "dd056470",
   "metadata": {},
   "outputs": [],
   "source": [
    "rfc_clf = RandomForestClassifier()"
   ]
  },
  {
   "cell_type": "code",
   "execution_count": null,
   "id": "754320a0",
   "metadata": {},
   "outputs": [],
   "source": [
    "rfc_clf.fit(x_train,y_train)"
   ]
  },
  {
   "cell_type": "code",
   "execution_count": null,
   "id": "fcdec6e7",
   "metadata": {},
   "outputs": [],
   "source": [
    "rfc_clf.predict([some_digit])"
   ]
  },
  {
   "cell_type": "markdown",
   "id": "fb1b2dde",
   "metadata": {},
   "source": [
    "## Analysing error in previsiously builed models"
   ]
  },
  {
   "cell_type": "code",
   "execution_count": null,
   "id": "c0c60580",
   "metadata": {},
   "outputs": [],
   "source": [
    "y_train_prep= cross_val_predict(sgd_clf, x_train,y_train, cv=3)\n",
    "confm = confusion_matrix(y_train, y_train_prep)"
   ]
  },
  {
   "cell_type": "code",
   "execution_count": null,
   "id": "1a529233",
   "metadata": {},
   "outputs": [],
   "source": [
    "confm"
   ]
  },
  {
   "cell_type": "code",
   "execution_count": 68,
   "id": "19d22455",
   "metadata": {},
   "outputs": [
    {
     "data": {
      "text/plain": [
       "<matplotlib.image.AxesImage at 0x21c9fce1730>"
      ]
     },
     "execution_count": 68,
     "metadata": {},
     "output_type": "execute_result"
    },
    {
     "data": {
      "image/png": "[encoded data removed]",
      "text/plain": [
       "<Figure size 288x288 with 1 Axes>"
      ]
     },
     "metadata": {
      "needs_background": "light"
     },
     "output_type": "display_data"
    }
   ],
   "source": [
    "plt.matshow(confm, cmap=plt.cm.gray)"
   ]
  },
  {
   "cell_type": "markdown",
   "id": "49239d7a",
   "metadata": {},
   "source": [
    "## Comparing error rates insted of absolute number of errors"
   ]
  },
  {
   "cell_type": "code",
   "execution_count": null,
   "id": "17289f88",
   "metadata": {},
   "outputs": [],
   "source": [
    "row_sum = confm.sum(axis=1, keepdims=True)\n",
    "norm_confm = confm/row_sum\n",
    "norm_confm"
   ]
  },
  {
   "cell_type": "code",
   "execution_count": 69,
   "id": "bec9e1a2",
   "metadata": {},
   "outputs": [
    {
     "data": {
      "text/plain": [
       "<matplotlib.image.AxesImage at 0x21c9f9b4790>"
      ]
     },
     "execution_count": 69,
     "metadata": {},
     "output_type": "execute_result"
    },
    {
     "data": {
      "image/png": "[encoded data removed]",
      "text/plain": [
       "<Figure size 288x288 with 1 Axes>"
      ]
     },
     "metadata": {
      "needs_background": "light"
     },
     "output_type": "display_data"
    }
   ],
   "source": [
    "np.fill_diagonal(norm_confm,0)\n",
    "plt.matshow(norm_confm, cmap=plt.cm.gray)"
   ]
  },
  {
   "cell_type": "markdown",
   "id": "2fab426d",
   "metadata": {},
   "source": [
    "## Multilabel Classification"
   ]
  },
  {
   "cell_type": "code",
   "execution_count": 70,
   "id": "1338abc2",
   "metadata": {},
   "outputs": [],
   "source": [
    "from sklearn.neighbors import KNeighborsClassifier"
   ]
  },
  {
   "cell_type": "markdown",
   "id": "f11f0966",
   "metadata": {},
   "source": [
    "### np.c_[np.array([1,2,3]), np.array([4,5,6])]   into  \n",
    "array([[1, 4],\n",
    "       [2, 5],\n",
    "       [3, 6]])"
   ]
  },
  {
   "cell_type": "code",
   "execution_count": 73,
   "id": "ced434dc",
   "metadata": {},
   "outputs": [],
   "source": [
    "y_train_large = (y_train>= 7)\n",
    "y_train_odd = (y_train%2 == 1)\n",
    "y_train_even = (y_train%2 == 0)\n",
    "y_multilb = np.c_[y_train_large,y__train_odd,y__train_even]"
   ]
  },
  {
   "cell_type": "code",
   "execution_count": 74,
   "id": "0048458b",
   "metadata": {},
   "outputs": [
    {
     "data": {
      "text/plain": [
       "KNeighborsClassifier()"
      ]
     },
     "execution_count": 74,
     "metadata": {},
     "output_type": "execute_result"
    }
   ],
   "source": [
    "kn_clf = KNeighborsClassifier()\n",
    "kn_clf.fit(x_train, y_multilb)"
   ]
  },
  {
   "cell_type": "code",
   "execution_count": 75,
   "id": "73259ec2",
   "metadata": {},
   "outputs": [
    {
     "data": {
      "text/plain": [
       "array([[False,  True, False]])"
      ]
     },
     "execution_count": 75,
     "metadata": {},
     "output_type": "execute_result"
    }
   ],
   "source": [
    "kn_clf.predict([some_digit])"
   ]
  }
 ],
 "metadata": {
  "kernelspec": {
   "display_name": "Python 3 (ipykernel)",
   "language": "python",
   "name": "python3"
  },
  "language_info": {
   "codemirror_mode": {
    "name": "ipython",
    "version": 3
   },
   "file_extension": ".py",
   "mimetype": "text/x-python",
   "name": "python",
   "nbconvert_exporter": "python",
   "pygments_lexer": "ipython3",
   "version": "3.9.7"
  }
 },
 "nbformat": 4,
 "nbformat_minor": 5
}
